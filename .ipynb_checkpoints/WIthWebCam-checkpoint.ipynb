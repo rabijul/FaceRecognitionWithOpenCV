{
 "cells": [
  {
   "cell_type": "markdown",
   "id": "ceea25d3",
   "metadata": {},
   "source": [
    "### Installing the OpenCV libraries"
   ]
  },
  {
   "cell_type": "code",
   "execution_count": 11,
   "id": "8fa17850",
   "metadata": {},
   "outputs": [],
   "source": [
    "!pip --quiet install opencv-python\n",
    "!pip --quiet install opencv-contrib-python\n",
    "!pip --quiet install matplotlib"
   ]
  },
  {
   "cell_type": "code",
   "execution_count": 12,
   "id": "ba59099f",
   "metadata": {},
   "outputs": [],
   "source": [
    "import cv2\n",
    "import matplotlib.pyplot as plt"
   ]
  },
  {
   "cell_type": "markdown",
   "id": "755ae514",
   "metadata": {},
   "source": [
    "### The below code initialises the Emotions in a string Array."
   ]
  },
  {
   "cell_type": "code",
   "execution_count": null,
   "id": "d1baf7aa",
   "metadata": {},
   "outputs": [],
   "source": [
    "emotions = [\"afraid\", \"angry\", \"disgusted\",\"happy\",  \"neutral\", \"sad\",\"surprised\"]\n",
    "\n",
    "def detect_faces(img):\n",
    "    facecascade = cv2.CascadeClassifier(\n",
    "        'haarcascade_frontalface_default.xml')\n",
    "    faces = facecascade.detectMultiScale(img,scaleFactor=1.1,minNeighbors=5)\n",
    "    return faces\n",
    "\n",
    "# Resize the image to 350x350 pixels\n",
    "def resize_face(face):  \n",
    "    face = cv2.cvtColor(face, cv2.COLOR_BGR2GRAY)\n",
    "    face = cv2.resize(face, (350, 350))\n",
    "    return face"
   ]
  },
  {
   "cell_type": "markdown",
   "id": "01d83269",
   "metadata": {},
   "source": [
    "### Open the webcam and tries to capture the Video. It tries to capture the Emotions and the Gender. "
   ]
  },
  {
   "cell_type": "code",
   "execution_count": 1,
   "id": "2cc4137f",
   "metadata": {},
   "outputs": [
    {
     "ename": "NameError",
     "evalue": "name 'cv2' is not defined",
     "output_type": "error",
     "traceback": [
      "\u001b[1;31m---------------------------------------------------------------------------\u001b[0m",
      "\u001b[1;31mNameError\u001b[0m                                 Traceback (most recent call last)",
      "Cell \u001b[1;32mIn[1], line 22\u001b[0m\n\u001b[0;32m     19\u001b[0m     \u001b[38;5;28;01mreturn\u001b[39;00m face\n\u001b[0;32m     21\u001b[0m \u001b[38;5;66;03m# Default webcam\u001b[39;00m\n\u001b[1;32m---> 22\u001b[0m stream \u001b[38;5;241m=\u001b[39m cv2\u001b[38;5;241m.\u001b[39mVideoCapture(\u001b[38;5;241m0\u001b[39m)\n\u001b[0;32m     24\u001b[0m \u001b[38;5;66;03m# Load the pre-trained models outside the loop for efficiency\u001b[39;00m\n\u001b[0;32m     25\u001b[0m emotion_recognizer \u001b[38;5;241m=\u001b[39m cv2\u001b[38;5;241m.\u001b[39mface\u001b[38;5;241m.\u001b[39mFisherFaceRecognizer_create()\n",
      "\u001b[1;31mNameError\u001b[0m: name 'cv2' is not defined"
     ]
    }
   ],
   "source": [
    "import time\n",
    "\n",
    "emotions = [\"afraid\", \"angry\", \"disgusted\", \n",
    "            \"happy\",  \"neutral\", \"sad\", \n",
    "            \"surprised\"]\n",
    "\n",
    "def detect_faces(img):\n",
    "    facecascade = cv2.CascadeClassifier(\n",
    "        'haarcascade_frontalface_default.xml')\n",
    "    faces = facecascade.detectMultiScale(img, \n",
    "                                         scaleFactor=1.1, \n",
    "                                         minNeighbors=5)\n",
    "    return faces\n",
    "\n",
    "# Resize the image to 350x350 pixels\n",
    "def resize_face(face):  \n",
    "    face = cv2.cvtColor(face, cv2.COLOR_BGR2GRAY)\n",
    "    face = cv2.resize(face, (350, 350))\n",
    "    return face\n",
    "\n",
    "# Default webcam\n",
    "stream = cv2.VideoCapture(0)\n",
    "\n",
    "# Load the pre-trained models outside the loop for efficiency\n",
    "emotion_recognizer = cv2.face.FisherFaceRecognizer_create()\n",
    "emotion_recognizer.read('emotion_classifier_model.xml')\n",
    "\n",
    "gender_recognizer = cv2.face.FisherFaceRecognizer_create()\n",
    "gender_recognizer.read('gender_classifier_model.xml')\n",
    "\n",
    "# Start time\n",
    "start_time = time.time()\n",
    "\n",
    "while True:\n",
    "    # Capture frame-by-frame\n",
    "    (grabbed, image) = stream.read()\n",
    "\n",
    "    # Detect faces\n",
    "    faces = detect_faces(image)\n",
    "\n",
    "    if len(faces) > 0:\n",
    "        # Find the face with the largest height (index 3)\n",
    "        face = max(faces, key=lambda item: item[3])    \n",
    "\n",
    "        # Find the bounding box of the face\n",
    "        (x, y, w, h) = face\n",
    "\n",
    "        # Draw rectangles around the face\n",
    "        cv2.rectangle(image, (x, y), (x+w, y+h), (255, 0, 255), 2)\n",
    "\n",
    "        # Get the face\n",
    "        roi_face = image[y:y+h, x:x+w]\n",
    "\n",
    "        # Resize and convert face to grayscale for prediction\n",
    "        resized_face = resize_face(roi_face)\n",
    "\n",
    "        # Predict emotion\n",
    "        predicted_emotion = emotion_recognizer.predict(resized_face)\n",
    "        emotion = emotions[predicted_emotion[0]]\n",
    "        print(f'emotion {emotion}')\n",
    "        text = emotion\n",
    "\n",
    "        # Predict gender\n",
    "        predicted_gender = gender_recognizer.predict(resized_face)\n",
    "        gender = \"female\" if predicted_gender[0] == 0 else \"male\"\n",
    "        print(f'gender  {gender}')        \n",
    "        text += \", \" + gender\n",
    "\n",
    "        # Display the emotion and gender\n",
    "        cv2.putText(image, text, (x, y-10), \n",
    "                    cv2.FONT_HERSHEY_SIMPLEX, 1, (0, 255, 255), 2)\n",
    "\n",
    "    # Show the image\n",
    "    cv2.imshow(\"Image\", image)\n",
    "\n",
    "    key = cv2.waitKey(1) & 0xFF    \n",
    "    if key == ord(\"q\"):    # Press q to break out of the loop\n",
    "        break\n",
    "    \n",
    "    # Check if 10 seconds have passed\n",
    "    elapsed_time = time.time() - start_time\n",
    "    if elapsed_time > 10:\n",
    "        break\n",
    "\n",
    "# Cleanup\n",
    "stream.release()\n",
    "cv2.destroyAllWindows()\n",
    "cv2.waitKey(1)\n"
   ]
  },
  {
   "cell_type": "code",
   "execution_count": null,
   "id": "8f62d47f",
   "metadata": {},
   "outputs": [],
   "source": []
  }
 ],
 "metadata": {
  "kernelspec": {
   "display_name": "Python 3 (ipykernel)",
   "language": "python",
   "name": "python3"
  },
  "language_info": {
   "codemirror_mode": {
    "name": "ipython",
    "version": 3
   },
   "file_extension": ".py",
   "mimetype": "text/x-python",
   "name": "python",
   "nbconvert_exporter": "python",
   "pygments_lexer": "ipython3",
   "version": "3.11.5"
  }
 },
 "nbformat": 4,
 "nbformat_minor": 5
}
